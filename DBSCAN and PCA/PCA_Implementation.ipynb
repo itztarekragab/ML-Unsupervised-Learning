{
 "cells": [
  {
   "cell_type": "code",
   "execution_count": 1,
   "id": "90c571f9",
   "metadata": {},
   "outputs": [],
   "source": [
    "import pandas as pd\n",
    "import numpy as np\n",
    "from sklearn.datasets import load_iris\n",
    "from sklearn.preprocessing import StandardScaler\n",
    "from sklearn.decomposition import PCA\n",
    "from sklearn.linear_model import RidgeClassifier\n",
    "from sklearn.model_selection import cross_val_score"
   ]
  },
  {
   "cell_type": "code",
   "execution_count": 2,
   "id": "c713bac4",
   "metadata": {},
   "outputs": [],
   "source": [
    "data = load_iris()\n",
    "df = pd.DataFrame(data.data, columns=data.feature_names)\n",
    "df['target'] = pd.Series(data.target)\n",
    "X = df.drop('target',axis=1)\n",
    "y = df['target']\n",
    "n_components = 3"
   ]
  },
  {
   "cell_type": "code",
   "execution_count": 3,
   "id": "2cb7ddf9",
   "metadata": {},
   "outputs": [],
   "source": [
    "def Handmade_PCA(X,n_components=2):\n",
    "    #Scale our data to be normalized\n",
    "    sc = StandardScaler()\n",
    "    A = sc.fit_transform(X)\n",
    "    \n",
    "    #Get the covariance matrix\n",
    "    V = np.cov(A,rowvar = False)\n",
    "    \n",
    "    #Get eigen_values and eigen vectors for our covariance matrix\n",
    "    eig_vals, eig_vecs = np.linalg.eigh(V)\n",
    "    \n",
    "    #Now Sorting the eigen values and vectors with the highest eigen values\n",
    "    sorted_index = np.argsort(eig_vals)[::-1]\n",
    "    sorted_eig_vals = eig_vals[sorted_index]\n",
    "    sorted_eig_vecs = eig_vecs[:,sorted_index]\n",
    "    \n",
    "    # Subset our eigen vectors to get only the required principle components\n",
    "    eigvecs_subset = sorted_eig_vecs[:,:n_components]\n",
    "    \n",
    "    #Get the output PCA matrix\n",
    "    A_reduced = (eigvecs_subset.T @ A.T).T\n",
    "    \n",
    "    #Create names for the columns\n",
    "    columns = [f'PC {i+1}' for i in range(n_components)]\n",
    "    \n",
    "    #Convert it to a pandas dataframe with the column names we created\n",
    "    P = pd.DataFrame(A_reduced,columns=columns)\n",
    "    return P"
   ]
  },
  {
   "cell_type": "code",
   "execution_count": 4,
   "id": "f78377be",
   "metadata": {},
   "outputs": [],
   "source": [
    "my_output = Handmade_PCA(X,n_components)"
   ]
  },
  {
   "cell_type": "code",
   "execution_count": 5,
   "id": "0726a09f",
   "metadata": {},
   "outputs": [],
   "source": [
    "sc = StandardScaler()\n",
    "X = sc.fit_transform(X)\n",
    "pca = PCA(n_components)"
   ]
  },
  {
   "cell_type": "code",
   "execution_count": 6,
   "id": "63e48af9",
   "metadata": {},
   "outputs": [],
   "source": [
    "sklearn_output = pd.DataFrame(pca.fit_transform(X),columns = [f'PC {i+1}' for i in range(n_components)])"
   ]
  },
  {
   "cell_type": "code",
   "execution_count": 7,
   "id": "bc556bb3",
   "metadata": {},
   "outputs": [
    {
     "name": "stdout",
     "output_type": "stream",
     "text": [
      "[0.8        0.83333333 0.83333333 0.76666667 0.86666667]\n",
      "[0.8        0.86666667 0.9        0.73333333 0.83333333]\n",
      "[0.8        0.86666667 0.9        0.73333333 0.83333333]\n"
     ]
    }
   ],
   "source": [
    "rc = RidgeClassifier()\n",
    "print(cross_val_score(rc,X,y))\n",
    "print(cross_val_score(rc,my_output,y))\n",
    "print(cross_val_score(rc,sklearn_output,y))\n",
    "\n",
    "# The output from the hand implementation and the sklearn implementation is exactly the same\n",
    "# it increases the best accuracy value after doing PCA"
   ]
  }
 ],
 "metadata": {
  "kernelspec": {
   "display_name": "Python 3 (ipykernel)",
   "language": "python",
   "name": "python3"
  },
  "language_info": {
   "codemirror_mode": {
    "name": "ipython",
    "version": 3
   },
   "file_extension": ".py",
   "mimetype": "text/x-python",
   "name": "python",
   "nbconvert_exporter": "python",
   "pygments_lexer": "ipython3",
   "version": "3.9.6"
  }
 },
 "nbformat": 4,
 "nbformat_minor": 5
}
